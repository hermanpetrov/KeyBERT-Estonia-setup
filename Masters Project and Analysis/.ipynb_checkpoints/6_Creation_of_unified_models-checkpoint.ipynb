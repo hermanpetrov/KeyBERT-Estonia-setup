{
 "cells": [
  {
   "cell_type": "code",
   "execution_count": 2,
   "id": "060c00d6-c725-472d-80b3-fb1c271c2d93",
   "metadata": {},
   "outputs": [
    {
     "name": "stdout",
     "output_type": "stream",
     "text": [
      "All directories and files are correctly structured and present.\n"
     ]
    },
    {
     "data": {
      "text/plain": [
       "True"
      ]
     },
     "execution_count": 2,
     "metadata": {},
     "output_type": "execute_result"
    }
   ],
   "source": [
    "import os\n",
    "\n",
    "def verify_directory_structure():\n",
    "    base_path = os.getcwd()  # Get the current working directory\n",
    "    models_path = os.path.join(base_path, 'models')\n",
    "    \n",
    "    expected_subdirs = ['raw_text_lemma_data_LCF', 'raw_text_lemma_data', 'raw_text_data_LCF', 'raw_text_data']\n",
    "    expected_models = [\n",
    "        'EstBERT', 'est-roberta', 'LaBSE', 'bertMulti', 'distilbertMulti', \n",
    "        'MiniLM_multi', 'MiniLM-L12_multi', 'multi_e5', 'xml_roberta'\n",
    "    ]\n",
    "    expected_ngrams = ['ngram_1_1', 'ngram_2_2', 'ngram_3_3']\n",
    "    expected_diversities = [f\"diversity_{i}\" for i in range(11)]  # Generate folder names from diversity_0 to diversity_10\n",
    "    expected_files_count = 180\n",
    "\n",
    "    if not os.path.exists(models_path):\n",
    "        print(f\"Directory missing: {models_path}\")\n",
    "        return False\n",
    "\n",
    "    for sub_dir in expected_subdirs:\n",
    "        full_sub_dir = os.path.join(models_path, sub_dir)\n",
    "        if not os.path.exists(full_sub_dir):\n",
    "            print(f\"Directory missing: {full_sub_dir}\")\n",
    "            return False\n",
    "        for model in expected_models:\n",
    "            full_model_dir = os.path.join(full_sub_dir, model)\n",
    "            if not os.path.exists(full_model_dir):\n",
    "                print(f\"Directory missing: {full_model_dir}\")\n",
    "                return False\n",
    "            for ngram in expected_ngrams:\n",
    "                full_ngram_dir = os.path.join(full_model_dir, ngram)\n",
    "                if not os.path.exists(full_ngram_dir):\n",
    "                    print(f\"Directory missing: {full_ngram_dir}\")\n",
    "                    return False\n",
    "                for diversity in expected_diversities:\n",
    "                    full_diversity_dir = os.path.join(full_ngram_dir, diversity)\n",
    "                    if not os.path.exists(full_diversity_dir):\n",
    "                        print(f\"Directory missing: {full_diversity_dir}\")\n",
    "                        return False\n",
    "                    csv_files = [f for f in os.listdir(full_diversity_dir) if f.endswith('.csv')]\n",
    "                    if len(csv_files) != expected_files_count:\n",
    "                        print(f\"Error: Expected {expected_files_count} CSV files in {full_diversity_dir}, found {len(csv_files)}\")\n",
    "                        return False\n",
    "    print(\"All directories and files are correctly structured and present.\")\n",
    "    return True\n",
    "\n",
    "# Run the verification function\n",
    "verify_directory_structure()\n"
   ]
  },
  {
   "cell_type": "code",
   "execution_count": 3,
   "id": "b44bb71c-1883-498a-ae30-cd16e33ed271",
   "metadata": {},
   "outputs": [],
   "source": [
    "import os\n",
    "import pandas as pd\n",
    "\n",
    "def create_unified_data(top_n):\n",
    "    base_path = os.getcwd()  # Get the current working directory\n",
    "    models_path = os.path.join(base_path, 'models')\n",
    "    unified_path = os.path.join(models_path, f'unified_data_{top_n}')  # Dynamically set the directory name based on top_n\n",
    "    os.makedirs(unified_path, exist_ok=True)\n",
    "    \n",
    "    subdirs = ['raw_text_lemma_data_LCF', 'raw_text_lemma_data', 'raw_text_data_LCF', 'raw_text_data']\n",
    "    ngrams = ['ngram_1_1', 'ngram_2_2', 'ngram_3_3']\n",
    "    diversities = [f\"diversity_{i}\" for i in range(11)]\n",
    "    models = ['EstBERT', 'est-roberta', 'LaBSE', 'bertMulti', 'distilbertMulti', 'MiniLM_multi', 'MiniLM-L12_multi', 'multi_e5', 'xml_roberta']\n",
    "\n",
    "    for subdir in subdirs:\n",
    "        for ngram in ngrams:\n",
    "            for diversity in diversities:\n",
    "                unified_sub_path = os.path.join(unified_path, subdir, ngram, diversity)\n",
    "                os.makedirs(unified_sub_path, exist_ok=True)\n",
    "                model_paths = [os.path.join(models_path, subdir, model, ngram, diversity) for model in models]\n",
    "                \n",
    "                # Assuming each model folder has the same named csv files\n",
    "                example_files = os.listdir(model_paths[0])\n",
    "                for file_name in example_files:\n",
    "                    data_frames = {}\n",
    "                    for model, path in zip(models, model_paths):\n",
    "                        file_path = os.path.join(path, file_name)\n",
    "                        if os.path.exists(file_path):\n",
    "                            df = pd.read_csv(file_path, delimiter=';', header=0)  # Assuming headers are already correct\n",
    "                            # Select only the first column and limit the rows to top_n\n",
    "                            data_frames[model] = df.iloc[:top_n, 0]\n",
    "\n",
    "                    # Ensure each DataFrame has the same length by padding shorter ones with NaN\n",
    "                    max_length = max(len(df) for df in data_frames.values()) if data_frames else 0\n",
    "                    for model in models:\n",
    "                        if model in data_frames:\n",
    "                            df_length = len(data_frames[model])\n",
    "                            if df_length < max_length:\n",
    "                                data_frames[model] = pd.concat([data_frames[model], pd.Series([pd.NA] * (max_length - df_length))], ignore_index=True)\n",
    "\n",
    "                    # Combine all data frames into one with each model as a column\n",
    "                    combined_df = pd.DataFrame(data_frames)\n",
    "                    combined_df.to_csv(os.path.join(unified_sub_path, file_name), index=False, sep=';')\n",
    "\n",
    "# Example usage:\n",
    "create_unified_data(top_n=200)  # Create unified data for top 200 entries\n",
    "create_unified_data(top_n=50)   # Create unified data for top 50 entries\n",
    "create_unified_data(top_n=10)   # Create unified data for top 10 entries\n"
   ]
  }
 ],
 "metadata": {
  "kernelspec": {
   "display_name": "Python 3 (ipykernel)",
   "language": "python",
   "name": "python3"
  },
  "language_info": {
   "codemirror_mode": {
    "name": "ipython",
    "version": 3
   },
   "file_extension": ".py",
   "mimetype": "text/x-python",
   "name": "python",
   "nbconvert_exporter": "python",
   "pygments_lexer": "ipython3",
   "version": "3.8.19"
  }
 },
 "nbformat": 4,
 "nbformat_minor": 5
}
